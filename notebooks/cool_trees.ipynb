{
 "cells": [
  {
   "cell_type": "code",
   "execution_count": 1,
   "id": "819fa130",
   "metadata": {
    "execution": {
     "iopub.execute_input": "2025-04-18T20:18:15.697901Z",
     "iopub.status.busy": "2025-04-18T20:18:15.697901Z",
     "iopub.status.idle": "2025-04-18T20:18:16.967572Z",
     "shell.execute_reply": "2025-04-18T20:18:16.967572Z"
    }
   },
   "outputs": [],
   "source": [
    "import pandas as pd\n",
    "import numpy as np\n",
    "from pathlib import Path\n",
    "import seaborn as sns\n",
    "import matplotlib.pyplot as plt\n",
    "\n",
    "import sys\n",
    "import os\n",
    "project_dir = os.path.abspath('..')\n",
    "if project_dir not in sys.path:\n",
    "    sys.path.append(project_dir)\n",
    "\n",
    "from src.utils import clean_tree_data\n"
   ]
  },
  {
   "cell_type": "markdown",
   "id": "682d9b32",
   "metadata": {},
   "source": [
    "### Here is some tree data!"
   ]
  },
  {
   "cell_type": "code",
   "execution_count": 2,
   "id": "1dc51f59",
   "metadata": {
    "execution": {
     "iopub.execute_input": "2025-04-18T20:18:16.967572Z",
     "iopub.status.busy": "2025-04-18T20:18:16.967572Z",
     "iopub.status.idle": "2025-04-18T20:18:17.339246Z",
     "shell.execute_reply": "2025-04-18T20:18:17.339246Z"
    }
   },
   "outputs": [
    {
     "name": "stderr",
     "output_type": "stream",
     "text": [
      "C:\\Users\\AllieFeras\\AppData\\Local\\Temp\\ipykernel_30396\\3571834660.py:1: DtypeWarning: Columns (22) have mixed types. Specify dtype option on import or set low_memory=False.\n",
      "  tree = pd.read_csv('../data/in/Tree_Inventory_20250416.csv')\n"
     ]
    }
   ],
   "source": [
    "tree = pd.read_csv('../data/in/Tree_Inventory_20250416.csv')"
   ]
  },
  {
   "cell_type": "code",
   "execution_count": 3,
   "id": "b5617d52",
   "metadata": {
    "execution": {
     "iopub.execute_input": "2025-04-18T20:18:17.339246Z",
     "iopub.status.busy": "2025-04-18T20:18:17.339246Z",
     "iopub.status.idle": "2025-04-18T20:18:17.450924Z",
     "shell.execute_reply": "2025-04-18T20:18:17.450924Z"
    }
   },
   "outputs": [
    {
     "data": {
      "text/html": [
       "<div>\n",
       "<style scoped>\n",
       "    .dataframe tbody tr th:only-of-type {\n",
       "        vertical-align: middle;\n",
       "    }\n",
       "\n",
       "    .dataframe tbody tr th {\n",
       "        vertical-align: top;\n",
       "    }\n",
       "\n",
       "    .dataframe thead th {\n",
       "        text-align: right;\n",
       "    }\n",
       "</style>\n",
       "<table border=\"1\" class=\"dataframe\">\n",
       "  <thead>\n",
       "    <tr style=\"text-align: right;\">\n",
       "      <th></th>\n",
       "      <th>DBH</th>\n",
       "      <th>Total Yearly Eco Benefits ($)</th>\n",
       "      <th>Stormwater Benefits ($)</th>\n",
       "      <th>Stormwater Gallons Saved</th>\n",
       "      <th>Greenhouse CO2 Benefits ($)</th>\n",
       "      <th>CO2 Avoided (in lbs.)</th>\n",
       "      <th>CO2 Sequestered (in lbs.)</th>\n",
       "      <th>Energy Benefits ($)</th>\n",
       "      <th>kWh Saved</th>\n",
       "      <th>Therms Saved</th>\n",
       "      <th>Air Quality Benefits ($)</th>\n",
       "      <th>Pollutants Saved (in lbs.)</th>\n",
       "      <th>Property Benefits ($)</th>\n",
       "      <th>Leaf Surface Area (in sq. ft.)</th>\n",
       "      <th>Address</th>\n",
       "      <th>Site</th>\n",
       "      <th>Latitude</th>\n",
       "      <th>Longitude</th>\n",
       "      <th>Site ID</th>\n",
       "    </tr>\n",
       "  </thead>\n",
       "  <tbody>\n",
       "    <tr>\n",
       "      <th>count</th>\n",
       "      <td>133218.000000</td>\n",
       "      <td>133218.000000</td>\n",
       "      <td>133218.000000</td>\n",
       "      <td>133218.000000</td>\n",
       "      <td>133218.000000</td>\n",
       "      <td>133218.000000</td>\n",
       "      <td>133218.000000</td>\n",
       "      <td>133218.000000</td>\n",
       "      <td>133218.000000</td>\n",
       "      <td>133218.000000</td>\n",
       "      <td>133218.000000</td>\n",
       "      <td>133218.000000</td>\n",
       "      <td>133218.000000</td>\n",
       "      <td>133218.000000</td>\n",
       "      <td>133218.000000</td>\n",
       "      <td>133218.000000</td>\n",
       "      <td>133218.000000</td>\n",
       "      <td>133218.000000</td>\n",
       "      <td>133218.000000</td>\n",
       "    </tr>\n",
       "    <tr>\n",
       "      <th>mean</th>\n",
       "      <td>7.277412</td>\n",
       "      <td>58.416490</td>\n",
       "      <td>3.946885</td>\n",
       "      <td>493.358860</td>\n",
       "      <td>0.306661</td>\n",
       "      <td>59.304778</td>\n",
       "      <td>46.625866</td>\n",
       "      <td>26.191867</td>\n",
       "      <td>39.925755</td>\n",
       "      <td>14.629378</td>\n",
       "      <td>2.552849</td>\n",
       "      <td>0.409112</td>\n",
       "      <td>25.418456</td>\n",
       "      <td>42.245198</td>\n",
       "      <td>1244.734878</td>\n",
       "      <td>1.431308</td>\n",
       "      <td>42.908862</td>\n",
       "      <td>-78.846771</td>\n",
       "      <td>66693.009368</td>\n",
       "    </tr>\n",
       "    <tr>\n",
       "      <th>std</th>\n",
       "      <td>10.091653</td>\n",
       "      <td>76.913494</td>\n",
       "      <td>7.486037</td>\n",
       "      <td>935.737986</td>\n",
       "      <td>0.646880</td>\n",
       "      <td>118.124046</td>\n",
       "      <td>111.586455</td>\n",
       "      <td>36.323441</td>\n",
       "      <td>58.193432</td>\n",
       "      <td>20.034121</td>\n",
       "      <td>4.921157</td>\n",
       "      <td>0.786852</td>\n",
       "      <td>33.999343</td>\n",
       "      <td>56.506389</td>\n",
       "      <td>28978.640606</td>\n",
       "      <td>4.129126</td>\n",
       "      <td>0.122205</td>\n",
       "      <td>0.218067</td>\n",
       "      <td>38502.805297</td>\n",
       "    </tr>\n",
       "    <tr>\n",
       "      <th>min</th>\n",
       "      <td>-10.000000</td>\n",
       "      <td>0.000000</td>\n",
       "      <td>0.000000</td>\n",
       "      <td>0.000000</td>\n",
       "      <td>0.000000</td>\n",
       "      <td>0.000000</td>\n",
       "      <td>0.000000</td>\n",
       "      <td>0.000000</td>\n",
       "      <td>0.000000</td>\n",
       "      <td>0.000000</td>\n",
       "      <td>0.000000</td>\n",
       "      <td>0.000000</td>\n",
       "      <td>0.000000</td>\n",
       "      <td>0.000000</td>\n",
       "      <td>0.000000</td>\n",
       "      <td>0.000000</td>\n",
       "      <td>0.000000</td>\n",
       "      <td>-78.911907</td>\n",
       "      <td>1.000000</td>\n",
       "    </tr>\n",
       "    <tr>\n",
       "      <th>25%</th>\n",
       "      <td>0.000000</td>\n",
       "      <td>0.000000</td>\n",
       "      <td>0.000000</td>\n",
       "      <td>0.000000</td>\n",
       "      <td>0.000000</td>\n",
       "      <td>0.000000</td>\n",
       "      <td>0.000000</td>\n",
       "      <td>0.000000</td>\n",
       "      <td>0.000000</td>\n",
       "      <td>0.000000</td>\n",
       "      <td>0.000000</td>\n",
       "      <td>0.000000</td>\n",
       "      <td>0.000000</td>\n",
       "      <td>0.000000</td>\n",
       "      <td>75.000000</td>\n",
       "      <td>1.000000</td>\n",
       "      <td>42.890996</td>\n",
       "      <td>-78.871450</td>\n",
       "      <td>33359.250000</td>\n",
       "    </tr>\n",
       "    <tr>\n",
       "      <th>50%</th>\n",
       "      <td>2.000000</td>\n",
       "      <td>15.350000</td>\n",
       "      <td>0.240000</td>\n",
       "      <td>30.110000</td>\n",
       "      <td>0.010000</td>\n",
       "      <td>1.170000</td>\n",
       "      <td>0.770000</td>\n",
       "      <td>4.050000</td>\n",
       "      <td>4.430000</td>\n",
       "      <td>2.430000</td>\n",
       "      <td>0.090000</td>\n",
       "      <td>0.010000</td>\n",
       "      <td>8.990000</td>\n",
       "      <td>14.940000</td>\n",
       "      <td>179.000000</td>\n",
       "      <td>1.000000</td>\n",
       "      <td>42.913241</td>\n",
       "      <td>-78.846553</td>\n",
       "      <td>66688.500000</td>\n",
       "    </tr>\n",
       "    <tr>\n",
       "      <th>75%</th>\n",
       "      <td>13.000000</td>\n",
       "      <td>103.250000</td>\n",
       "      <td>4.710000</td>\n",
       "      <td>588.570000</td>\n",
       "      <td>0.200000</td>\n",
       "      <td>36.700000</td>\n",
       "      <td>26.580000</td>\n",
       "      <td>48.760000</td>\n",
       "      <td>73.650000</td>\n",
       "      <td>27.470000</td>\n",
       "      <td>2.210000</td>\n",
       "      <td>0.340000</td>\n",
       "      <td>46.970000</td>\n",
       "      <td>78.060000</td>\n",
       "      <td>414.000000</td>\n",
       "      <td>1.000000</td>\n",
       "      <td>42.936058</td>\n",
       "      <td>-78.821594</td>\n",
       "      <td>100002.750000</td>\n",
       "    </tr>\n",
       "    <tr>\n",
       "      <th>max</th>\n",
       "      <td>508.000000</td>\n",
       "      <td>469.300000</td>\n",
       "      <td>68.280000</td>\n",
       "      <td>8534.550000</td>\n",
       "      <td>7.600000</td>\n",
       "      <td>941.650000</td>\n",
       "      <td>1844.070000</td>\n",
       "      <td>170.640000</td>\n",
       "      <td>329.780000</td>\n",
       "      <td>88.380000</td>\n",
       "      <td>44.760000</td>\n",
       "      <td>6.370000</td>\n",
       "      <td>241.990000</td>\n",
       "      <td>402.180000</td>\n",
       "      <td>999999.000000</td>\n",
       "      <td>206.000000</td>\n",
       "      <td>42.965551</td>\n",
       "      <td>0.000000</td>\n",
       "      <td>136675.000000</td>\n",
       "    </tr>\n",
       "  </tbody>\n",
       "</table>\n",
       "</div>"
      ],
      "text/plain": [
       "                 DBH  Total Yearly Eco Benefits ($)  Stormwater Benefits ($)  \\\n",
       "count  133218.000000                  133218.000000            133218.000000   \n",
       "mean        7.277412                      58.416490                 3.946885   \n",
       "std        10.091653                      76.913494                 7.486037   \n",
       "min       -10.000000                       0.000000                 0.000000   \n",
       "25%         0.000000                       0.000000                 0.000000   \n",
       "50%         2.000000                      15.350000                 0.240000   \n",
       "75%        13.000000                     103.250000                 4.710000   \n",
       "max       508.000000                     469.300000                68.280000   \n",
       "\n",
       "       Stormwater Gallons Saved  Greenhouse CO2 Benefits ($)  \\\n",
       "count             133218.000000                133218.000000   \n",
       "mean                 493.358860                     0.306661   \n",
       "std                  935.737986                     0.646880   \n",
       "min                    0.000000                     0.000000   \n",
       "25%                    0.000000                     0.000000   \n",
       "50%                   30.110000                     0.010000   \n",
       "75%                  588.570000                     0.200000   \n",
       "max                 8534.550000                     7.600000   \n",
       "\n",
       "       CO2 Avoided (in lbs.)  CO2 Sequestered (in lbs.)  Energy Benefits ($)  \\\n",
       "count          133218.000000              133218.000000        133218.000000   \n",
       "mean               59.304778                  46.625866            26.191867   \n",
       "std               118.124046                 111.586455            36.323441   \n",
       "min                 0.000000                   0.000000             0.000000   \n",
       "25%                 0.000000                   0.000000             0.000000   \n",
       "50%                 1.170000                   0.770000             4.050000   \n",
       "75%                36.700000                  26.580000            48.760000   \n",
       "max               941.650000                1844.070000           170.640000   \n",
       "\n",
       "           kWh Saved   Therms Saved  Air Quality Benefits ($)  \\\n",
       "count  133218.000000  133218.000000             133218.000000   \n",
       "mean       39.925755      14.629378                  2.552849   \n",
       "std        58.193432      20.034121                  4.921157   \n",
       "min         0.000000       0.000000                  0.000000   \n",
       "25%         0.000000       0.000000                  0.000000   \n",
       "50%         4.430000       2.430000                  0.090000   \n",
       "75%        73.650000      27.470000                  2.210000   \n",
       "max       329.780000      88.380000                 44.760000   \n",
       "\n",
       "       Pollutants Saved (in lbs.)  Property Benefits ($)  \\\n",
       "count               133218.000000          133218.000000   \n",
       "mean                     0.409112              25.418456   \n",
       "std                      0.786852              33.999343   \n",
       "min                      0.000000               0.000000   \n",
       "25%                      0.000000               0.000000   \n",
       "50%                      0.010000               8.990000   \n",
       "75%                      0.340000              46.970000   \n",
       "max                      6.370000             241.990000   \n",
       "\n",
       "       Leaf Surface Area (in sq. ft.)        Address           Site  \\\n",
       "count                   133218.000000  133218.000000  133218.000000   \n",
       "mean                        42.245198    1244.734878       1.431308   \n",
       "std                         56.506389   28978.640606       4.129126   \n",
       "min                          0.000000       0.000000       0.000000   \n",
       "25%                          0.000000      75.000000       1.000000   \n",
       "50%                         14.940000     179.000000       1.000000   \n",
       "75%                         78.060000     414.000000       1.000000   \n",
       "max                        402.180000  999999.000000     206.000000   \n",
       "\n",
       "            Latitude      Longitude        Site ID  \n",
       "count  133218.000000  133218.000000  133218.000000  \n",
       "mean       42.908862     -78.846771   66693.009368  \n",
       "std         0.122205       0.218067   38502.805297  \n",
       "min         0.000000     -78.911907       1.000000  \n",
       "25%        42.890996     -78.871450   33359.250000  \n",
       "50%        42.913241     -78.846553   66688.500000  \n",
       "75%        42.936058     -78.821594  100002.750000  \n",
       "max        42.965551       0.000000  136675.000000  "
      ]
     },
     "execution_count": 3,
     "metadata": {},
     "output_type": "execute_result"
    }
   ],
   "source": [
    "tree.describe(include=np.number)"
   ]
  },
  {
   "cell_type": "markdown",
   "id": "65b7a635",
   "metadata": {},
   "source": [
    "### Let's clean it!\n",
    "\n",
    "Keeping all the non monetary eco benefits and property values. Are more ecological trees also more beneficial to the owners wallet?\n",
    "\n",
    "Removed NAs and zeros because I'm assuming all those zeros are just missing data. When we assume we make a you know what out of you and me!"
   ]
  },
  {
   "cell_type": "code",
   "execution_count": 4,
   "id": "b3e69dae",
   "metadata": {
    "execution": {
     "iopub.execute_input": "2025-04-18T20:18:17.450924Z",
     "iopub.status.busy": "2025-04-18T20:18:17.450924Z",
     "iopub.status.idle": "2025-04-18T20:18:17.482953Z",
     "shell.execute_reply": "2025-04-18T20:18:17.482953Z"
    }
   },
   "outputs": [],
   "source": [
    "tree = clean_tree_data(tree)"
   ]
  },
  {
   "cell_type": "markdown",
   "id": "3ebded68",
   "metadata": {},
   "source": [
    "### Correlations - I love a pretty heatmap"
   ]
  },
  {
   "cell_type": "code",
   "execution_count": 5,
   "id": "af85448e",
   "metadata": {
    "execution": {
     "iopub.execute_input": "2025-04-18T20:18:17.482953Z",
     "iopub.status.busy": "2025-04-18T20:18:17.482953Z",
     "iopub.status.idle": "2025-04-18T20:18:17.610790Z",
     "shell.execute_reply": "2025-04-18T20:18:17.610790Z"
    }
   },
   "outputs": [
    {
     "data": {
      "image/png": "[encoded data removed]",
      "text/plain": [
       "<Figure size 640x480 with 2 Axes>"
      ]
     },
     "metadata": {},
     "output_type": "display_data"
    }
   ],
   "source": [
    "sns.heatmap(tree.corr(),cmap='Greens')\n",
    "plt.show()"
   ]
  },
  {
   "cell_type": "markdown",
   "id": "d5f6cc9e",
   "metadata": {},
   "source": [
    "### Cool let's save it"
   ]
  },
  {
   "cell_type": "code",
   "execution_count": 6,
   "id": "2406a61f",
   "metadata": {
    "execution": {
     "iopub.execute_input": "2025-04-18T20:18:17.610790Z",
     "iopub.status.busy": "2025-04-18T20:18:17.610790Z",
     "iopub.status.idle": "2025-04-18T20:18:17.802969Z",
     "shell.execute_reply": "2025-04-18T20:18:17.802969Z"
    }
   },
   "outputs": [],
   "source": [
    "outpath = Path('../data/processed/clean_trees.csv')\n",
    "outpath.parent.mkdir(exist_ok=True, parents=True)\n",
    "tree.to_csv(outpath,index=False)"
   ]
  }
 ],
 "metadata": {
  "kernelspec": {
   "display_name": ".venv",
   "language": "python",
   "name": "python3"
  },
  "language_info": {
   "codemirror_mode": {
    "name": "ipython",
    "version": 3
   },
   "file_extension": ".py",
   "mimetype": "text/x-python",
   "name": "python",
   "nbconvert_exporter": "python",
   "pygments_lexer": "ipython3",
   "version": "3.10.8"
  }
 },
 "nbformat": 4,
 "nbformat_minor": 5
}
